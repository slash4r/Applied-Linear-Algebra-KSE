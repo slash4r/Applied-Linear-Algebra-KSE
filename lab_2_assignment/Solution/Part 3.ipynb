{
 "cells": [
  {
   "cell_type": "code",
   "id": "initial_id",
   "metadata": {
    "collapsed": true,
    "ExecuteTime": {
     "end_time": "2024-06-15T21:51:58.764777Z",
     "start_time": "2024-06-15T21:51:58.564303Z"
    }
   },
   "source": "import numpy as np",
   "outputs": [],
   "execution_count": 1
  },
  {
   "metadata": {
    "ExecuteTime": {
     "end_time": "2024-06-15T22:01:08.472665Z",
     "start_time": "2024-06-15T22:01:08.439314Z"
    }
   },
   "cell_type": "code",
   "source": [
    "def encrypt_message(message, key_matrix):\n",
    "    message_vector = np.array([ord(char) for char in message])\n",
    "    eigenvalues, eigenvectors = np.linalg.eig(key_matrix)\n",
    "    \n",
    "    diagonalized_key_matrix = np.dot(np.dot(eigenvectors, np.diag(eigenvalues)), np.linalg.inv(eigenvectors))\n",
    "    \n",
    "    encrypted_vector = np.dot(diagonalized_key_matrix, message_vector)\n",
    "    \n",
    "    return encrypted_vector\n"
   ],
   "id": "96b903cbe791bb2f",
   "outputs": [],
   "execution_count": 2
  },
  {
   "metadata": {
    "ExecuteTime": {
     "end_time": "2024-06-15T22:05:44.908361Z",
     "start_time": "2024-06-15T22:05:44.890977Z"
    }
   },
   "cell_type": "code",
   "source": [
    "message = \"Hello\"\n",
    "# 5x5 matrix\n",
    "key_matrix = np.array([ [1, 2, 3, 4, 5],\n",
    "                        [2, 3, 4, 5, 1],\n",
    "                        [3, 4, 5, 1, 2],\n",
    "                        [4, 5, 1, 2, 3],\n",
    "                        [5, 1, 2, 3, 4] ])\n",
    "encrypted_message = encrypt_message(message, key_matrix)\n",
    "print(\"Encrypted message vector:\", encrypted_message)"
   ],
   "id": "cfcaf43faa3a6f75",
   "outputs": [
    {
     "name": "stdout",
     "output_type": "stream",
     "text": [
      "Encrypted message vector: [1585. 1530. 1490. 1450. 1445.]\n"
     ]
    }
   ],
   "execution_count": 6
  },
  {
   "metadata": {
    "ExecuteTime": {
     "end_time": "2024-06-15T22:20:13.408090Z",
     "start_time": "2024-06-15T22:20:13.401147Z"
    }
   },
   "cell_type": "code",
   "source": [
    "def decrypt_message(encrypted_vector, key_matrix):\n",
    "    eigenvalues, eigenvectors = np.linalg.eig(key_matrix)\n",
    "    \n",
    "    diagonalized_key_matrix = np.dot(np.dot(eigenvectors, np.diag(eigenvalues)), np.linalg.inv(eigenvectors))\n",
    "    \n",
    "    inverse_diagonalized_key_matrix = np.linalg.inv(diagonalized_key_matrix)\n",
    "    \n",
    "    decrypt_vector = np.dot(inverse_diagonalized_key_matrix, encrypted_vector)\n",
    "    \n",
    "    message = \"\"\n",
    "    \n",
    "    for char in decrypt_vector:\n",
    "        message += chr(round(char))\n",
    "    return message"
   ],
   "id": "34efca10dcb59ce5",
   "outputs": [],
   "execution_count": 10
  },
  {
   "metadata": {
    "ExecuteTime": {
     "end_time": "2024-06-15T22:20:13.881651Z",
     "start_time": "2024-06-15T22:20:13.871269Z"
    }
   },
   "cell_type": "code",
   "source": [
    "decrypted_message = decrypt_message(encrypted_message, key_matrix)\n",
    "decrypted_message"
   ],
   "id": "7625630ca105738",
   "outputs": [
    {
     "data": {
      "text/plain": [
       "'Hello'"
      ]
     },
     "execution_count": 11,
     "metadata": {},
     "output_type": "execute_result"
    }
   ],
   "execution_count": 11
  },
  {
   "metadata": {},
   "cell_type": "code",
   "outputs": [],
   "execution_count": null,
   "source": "",
   "id": "2d0de6695e02cc14"
  }
 ],
 "metadata": {
  "kernelspec": {
   "display_name": "Python 3",
   "language": "python",
   "name": "python3"
  },
  "language_info": {
   "codemirror_mode": {
    "name": "ipython",
    "version": 2
   },
   "file_extension": ".py",
   "mimetype": "text/x-python",
   "name": "python",
   "nbconvert_exporter": "python",
   "pygments_lexer": "ipython2",
   "version": "2.7.6"
  }
 },
 "nbformat": 4,
 "nbformat_minor": 5
}
