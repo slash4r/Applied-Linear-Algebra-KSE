{
 "cells": [
  {
   "cell_type": "code",
   "id": "initial_id",
   "metadata": {
    "collapsed": true,
    "ExecuteTime": {
     "end_time": "2024-06-15T21:51:58.764777Z",
     "start_time": "2024-06-15T21:51:58.564303Z"
    }
   },
   "source": "import numpy as np",
   "outputs": [],
   "execution_count": 1
  },
  {
   "metadata": {
    "ExecuteTime": {
     "end_time": "2024-06-15T22:01:08.472665Z",
     "start_time": "2024-06-15T22:01:08.439314Z"
    }
   },
   "cell_type": "code",
   "source": [
    "def encrypt_message(message, key_matrix):\n",
    "    message_vector = np.array([ord(char) for char in message])\n",
    "    eigenvalues, eigenvectors = np.linalg.eig(key_matrix)\n",
    "    \n",
    "    diagonalized_key_matrix = np.dot(np.dot(eigenvectors, np.diag(eigenvalues)), np.linalg.inv(eigenvectors))\n",
    "    \n",
    "    encrypted_vector = np.dot(diagonalized_key_matrix, message_vector)\n",
    "    \n",
    "    return encrypted_vector\n"
   ],
   "id": "96b903cbe791bb2f",
   "outputs": [],
   "execution_count": 2
  },
  {
   "metadata": {
    "ExecuteTime": {
     "end_time": "2024-06-15T22:44:06.171258Z",
     "start_time": "2024-06-15T22:44:06.099802Z"
    }
   },
   "cell_type": "code",
   "source": [
    "message = \"Kherson, Khar'kov -- ze best!\"\n",
    "message_length = len(message)\n",
    "key_matrix = np.random.randint(0, 256, (message_length, message_length))\n",
    "encrypted_message = encrypt_message(message, key_matrix)\n",
    "print(\"Encrypted message vector:\", encrypted_message)"
   ],
   "id": "cfcaf43faa3a6f75",
   "outputs": [
    {
     "name": "stdout",
     "output_type": "stream",
     "text": [
      "Encrypted message vector: [306966.+2.73562686e-10j 292213.+2.60648572e-10j 273115.+2.20108829e-10j\n",
      " 269375.+2.22146271e-10j 331656.+1.98458654e-10j 298431.+2.28080737e-10j\n",
      " 307304.+1.74280894e-10j 304890.+2.36528029e-10j 319518.+1.98102525e-10j\n",
      " 309590.+2.30042988e-10j 322824.+1.69561651e-10j 257853.+2.83348326e-10j\n",
      " 281413.+2.03118214e-10j 283220.+2.23440548e-10j 277745.+2.10138934e-10j\n",
      " 343728.+3.14526198e-10j 327013.+1.81957960e-10j 286594.+2.17105531e-10j\n",
      " 365105.+2.30381203e-10j 338938.+1.58938691e-10j 274462.+2.07567372e-10j\n",
      " 231643.+1.56696140e-10j 298476.+2.50575323e-10j 343773.+2.56002231e-10j\n",
      " 268134.+2.01697715e-10j 300600.+2.38520816e-10j 316474.+2.11917477e-10j\n",
      " 294791.+2.27821617e-10j 317668.+1.82354917e-10j]\n"
     ]
    }
   ],
   "execution_count": 26
  },
  {
   "metadata": {
    "ExecuteTime": {
     "end_time": "2024-06-15T22:44:07.316484Z",
     "start_time": "2024-06-15T22:44:07.309054Z"
    }
   },
   "cell_type": "code",
   "source": [
    "def decrypt_message(encrypted_vector, key_matrix):\n",
    "    eigenvalues, eigenvectors = np.linalg.eig(key_matrix)\n",
    "    \n",
    "    diagonalized_key_matrix = np.dot(np.dot(eigenvectors, np.diag(eigenvalues)), np.linalg.inv(eigenvectors))\n",
    "    \n",
    "    inverse_diagonalized_key_matrix = np.linalg.inv(diagonalized_key_matrix)\n",
    "    \n",
    "    decrypt_vector = np.dot(inverse_diagonalized_key_matrix, encrypted_vector)\n",
    "    \n",
    "    message = \"\"\n",
    "    \n",
    "    for char in decrypt_vector:\n",
    "        message += chr(int(np.round(char)))\n",
    "    return message"
   ],
   "id": "34efca10dcb59ce5",
   "outputs": [],
   "execution_count": 27
  },
  {
   "metadata": {
    "ExecuteTime": {
     "end_time": "2024-06-15T22:44:08.558982Z",
     "start_time": "2024-06-15T22:44:08.535681Z"
    }
   },
   "cell_type": "code",
   "source": [
    "decrypted_message = decrypt_message(encrypted_message, key_matrix)\n",
    "decrypted_message"
   ],
   "id": "7625630ca105738",
   "outputs": [
    {
     "name": "stderr",
     "output_type": "stream",
     "text": [
      "C:\\Users\\dennm\\AppData\\Local\\Temp\\ipykernel_2828\\2740308013.py:13: ComplexWarning: Casting complex values to real discards the imaginary part\n",
      "  message += chr(int(np.round(char)))\n"
     ]
    },
    {
     "data": {
      "text/plain": [
       "\"Kherson, Khar'kov -- ze best!\""
      ]
     },
     "execution_count": 28,
     "metadata": {},
     "output_type": "execute_result"
    }
   ],
   "execution_count": 28
  },
  {
   "metadata": {},
   "cell_type": "code",
   "outputs": [],
   "execution_count": null,
   "source": "",
   "id": "2d0de6695e02cc14"
  }
 ],
 "metadata": {
  "kernelspec": {
   "display_name": "Python 3",
   "language": "python",
   "name": "python3"
  },
  "language_info": {
   "codemirror_mode": {
    "name": "ipython",
    "version": 2
   },
   "file_extension": ".py",
   "mimetype": "text/x-python",
   "name": "python",
   "nbconvert_exporter": "python",
   "pygments_lexer": "ipython2",
   "version": "2.7.6"
  }
 },
 "nbformat": 4,
 "nbformat_minor": 5
}
